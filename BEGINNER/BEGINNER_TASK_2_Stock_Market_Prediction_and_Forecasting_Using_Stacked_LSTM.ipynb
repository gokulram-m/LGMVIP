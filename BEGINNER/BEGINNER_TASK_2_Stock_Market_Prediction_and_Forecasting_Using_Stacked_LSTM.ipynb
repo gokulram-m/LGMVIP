{
  "nbformat": 4,
  "nbformat_minor": 0,
  "metadata": {
    "colab": {
      "name": " Stock Market Prediction and Forecasting Using Stacked LSTM.ipynb",
      "provenance": [],
      "collapsed_sections": []
    },
    "kernelspec": {
      "name": "python3",
      "display_name": "Python 3"
    },
    "language_info": {
      "name": "python"
    }
  },
  "cells": [
    {
      "cell_type": "code",
      "metadata": {
        "id": "JCMcyTOgToMS"
      },
      "source": [
        "import pandas as pd\n",
        "import numpy as np\n",
        "import math\n",
        "import matplotlib.pyplot as plt\n",
        "from sklearn.preprocessing import MinMaxScaler\n",
        "from sklearn.metrics import mean_squared_error\n",
        "import tensorflow as tf\n",
        "from tensorflow.python.keras.models import Sequential\n",
        "from tensorflow.python.keras.layers import Dense\n",
        "from tensorflow.python.keras.layers import LSTM\n",
        "%matplotlib inline"
      ],
      "execution_count": 1,
      "outputs": []
    },
    {
      "cell_type": "code",
      "metadata": {
        "colab": {
          "base_uri": "https://localhost:8080/",
          "height": 203
        },
        "id": "DfsDwp_dUviJ",
        "outputId": "742f6347-3d2e-40d9-8eb7-e6d7c1f302a1"
      },
      "source": [
        "df = pd.read_csv('Reliance_Stock.csv')\n",
        "df = df.dropna()\n",
        "df.head()"
      ],
      "execution_count": 3,
      "outputs": [
        {
          "output_type": "execute_result",
          "data": {
            "text/html": [
              "<div>\n",
              "<style scoped>\n",
              "    .dataframe tbody tr th:only-of-type {\n",
              "        vertical-align: middle;\n",
              "    }\n",
              "\n",
              "    .dataframe tbody tr th {\n",
              "        vertical-align: top;\n",
              "    }\n",
              "\n",
              "    .dataframe thead th {\n",
              "        text-align: right;\n",
              "    }\n",
              "</style>\n",
              "<table border=\"1\" class=\"dataframe\">\n",
              "  <thead>\n",
              "    <tr style=\"text-align: right;\">\n",
              "      <th></th>\n",
              "      <th>Date</th>\n",
              "      <th>Open</th>\n",
              "      <th>High</th>\n",
              "      <th>Low</th>\n",
              "      <th>Close</th>\n",
              "      <th>Adj Close</th>\n",
              "      <th>Volume</th>\n",
              "    </tr>\n",
              "  </thead>\n",
              "  <tbody>\n",
              "    <tr>\n",
              "      <th>0</th>\n",
              "      <td>2015-06-08</td>\n",
              "      <td>449.142578</td>\n",
              "      <td>450.727539</td>\n",
              "      <td>437.403839</td>\n",
              "      <td>438.567810</td>\n",
              "      <td>422.947754</td>\n",
              "      <td>5005867.0</td>\n",
              "    </tr>\n",
              "    <tr>\n",
              "      <th>1</th>\n",
              "      <td>2015-06-09</td>\n",
              "      <td>437.626740</td>\n",
              "      <td>441.143402</td>\n",
              "      <td>434.555847</td>\n",
              "      <td>437.701019</td>\n",
              "      <td>422.111877</td>\n",
              "      <td>4224271.0</td>\n",
              "    </tr>\n",
              "    <tr>\n",
              "      <th>2</th>\n",
              "      <td>2015-06-10</td>\n",
              "      <td>438.840240</td>\n",
              "      <td>450.678009</td>\n",
              "      <td>438.344940</td>\n",
              "      <td>448.647278</td>\n",
              "      <td>432.668274</td>\n",
              "      <td>6234576.0</td>\n",
              "    </tr>\n",
              "    <tr>\n",
              "      <th>3</th>\n",
              "      <td>2015-06-11</td>\n",
              "      <td>448.746338</td>\n",
              "      <td>450.479889</td>\n",
              "      <td>432.723206</td>\n",
              "      <td>434.456787</td>\n",
              "      <td>418.983185</td>\n",
              "      <td>6773174.0</td>\n",
              "    </tr>\n",
              "    <tr>\n",
              "      <th>4</th>\n",
              "      <td>2015-06-12</td>\n",
              "      <td>435.373108</td>\n",
              "      <td>442.158783</td>\n",
              "      <td>435.001617</td>\n",
              "      <td>440.747162</td>\n",
              "      <td>425.049530</td>\n",
              "      <td>9942471.0</td>\n",
              "    </tr>\n",
              "  </tbody>\n",
              "</table>\n",
              "</div>"
            ],
            "text/plain": [
              "         Date        Open        High  ...       Close   Adj Close     Volume\n",
              "0  2015-06-08  449.142578  450.727539  ...  438.567810  422.947754  5005867.0\n",
              "1  2015-06-09  437.626740  441.143402  ...  437.701019  422.111877  4224271.0\n",
              "2  2015-06-10  438.840240  450.678009  ...  448.647278  432.668274  6234576.0\n",
              "3  2015-06-11  448.746338  450.479889  ...  434.456787  418.983185  6773174.0\n",
              "4  2015-06-12  435.373108  442.158783  ...  440.747162  425.049530  9942471.0\n",
              "\n",
              "[5 rows x 7 columns]"
            ]
          },
          "metadata": {},
          "execution_count": 3
        }
      ]
    },
    {
      "cell_type": "code",
      "metadata": {
        "colab": {
          "base_uri": "https://localhost:8080/",
          "height": 203
        },
        "id": "VSm2KqX6VLnU",
        "outputId": "e50bc687-d17b-43da-8e51-10b3de608e91"
      },
      "source": [
        "df.tail()"
      ],
      "execution_count": 4,
      "outputs": [
        {
          "output_type": "execute_result",
          "data": {
            "text/html": [
              "<div>\n",
              "<style scoped>\n",
              "    .dataframe tbody tr th:only-of-type {\n",
              "        vertical-align: middle;\n",
              "    }\n",
              "\n",
              "    .dataframe tbody tr th {\n",
              "        vertical-align: top;\n",
              "    }\n",
              "\n",
              "    .dataframe thead th {\n",
              "        text-align: right;\n",
              "    }\n",
              "</style>\n",
              "<table border=\"1\" class=\"dataframe\">\n",
              "  <thead>\n",
              "    <tr style=\"text-align: right;\">\n",
              "      <th></th>\n",
              "      <th>Date</th>\n",
              "      <th>Open</th>\n",
              "      <th>High</th>\n",
              "      <th>Low</th>\n",
              "      <th>Close</th>\n",
              "      <th>Adj Close</th>\n",
              "      <th>Volume</th>\n",
              "    </tr>\n",
              "  </thead>\n",
              "  <tbody>\n",
              "    <tr>\n",
              "      <th>1224</th>\n",
              "      <td>2020-06-01</td>\n",
              "      <td>1480.0</td>\n",
              "      <td>1538.349976</td>\n",
              "      <td>1475.949951</td>\n",
              "      <td>1520.349976</td>\n",
              "      <td>1509.805786</td>\n",
              "      <td>18434012.0</td>\n",
              "    </tr>\n",
              "    <tr>\n",
              "      <th>1225</th>\n",
              "      <td>2020-06-02</td>\n",
              "      <td>1526.0</td>\n",
              "      <td>1540.000000</td>\n",
              "      <td>1520.800049</td>\n",
              "      <td>1535.699951</td>\n",
              "      <td>1525.049194</td>\n",
              "      <td>10224049.0</td>\n",
              "    </tr>\n",
              "    <tr>\n",
              "      <th>1226</th>\n",
              "      <td>2020-06-03</td>\n",
              "      <td>1545.0</td>\n",
              "      <td>1560.000000</td>\n",
              "      <td>1533.349976</td>\n",
              "      <td>1541.650024</td>\n",
              "      <td>1530.958008</td>\n",
              "      <td>11713461.0</td>\n",
              "    </tr>\n",
              "    <tr>\n",
              "      <th>1227</th>\n",
              "      <td>2020-06-04</td>\n",
              "      <td>1544.0</td>\n",
              "      <td>1589.500000</td>\n",
              "      <td>1541.000000</td>\n",
              "      <td>1579.800049</td>\n",
              "      <td>1568.843506</td>\n",
              "      <td>15784379.0</td>\n",
              "    </tr>\n",
              "    <tr>\n",
              "      <th>1228</th>\n",
              "      <td>2020-06-05</td>\n",
              "      <td>1595.0</td>\n",
              "      <td>1618.000000</td>\n",
              "      <td>1573.699951</td>\n",
              "      <td>1581.699951</td>\n",
              "      <td>1570.730225</td>\n",
              "      <td>15264885.0</td>\n",
              "    </tr>\n",
              "  </tbody>\n",
              "</table>\n",
              "</div>"
            ],
            "text/plain": [
              "            Date    Open         High  ...        Close    Adj Close      Volume\n",
              "1224  2020-06-01  1480.0  1538.349976  ...  1520.349976  1509.805786  18434012.0\n",
              "1225  2020-06-02  1526.0  1540.000000  ...  1535.699951  1525.049194  10224049.0\n",
              "1226  2020-06-03  1545.0  1560.000000  ...  1541.650024  1530.958008  11713461.0\n",
              "1227  2020-06-04  1544.0  1589.500000  ...  1579.800049  1568.843506  15784379.0\n",
              "1228  2020-06-05  1595.0  1618.000000  ...  1581.699951  1570.730225  15264885.0\n",
              "\n",
              "[5 rows x 7 columns]"
            ]
          },
          "metadata": {},
          "execution_count": 4
        }
      ]
    },
    {
      "cell_type": "code",
      "metadata": {
        "id": "964haHpPVOnc"
      },
      "source": [
        "df_close = df['Close']"
      ],
      "execution_count": 5,
      "outputs": []
    },
    {
      "cell_type": "code",
      "metadata": {
        "colab": {
          "base_uri": "https://localhost:8080/"
        },
        "id": "DGbVwQioVXhb",
        "outputId": "cfde8ab4-80de-4fe6-aeca-833721ad1d51"
      },
      "source": [
        "df_close.shape"
      ],
      "execution_count": 6,
      "outputs": [
        {
          "output_type": "execute_result",
          "data": {
            "text/plain": [
              "(1228,)"
            ]
          },
          "metadata": {},
          "execution_count": 6
        }
      ]
    },
    {
      "cell_type": "code",
      "metadata": {
        "colab": {
          "base_uri": "https://localhost:8080/",
          "height": 282
        },
        "id": "VDqW8QWwVcm6",
        "outputId": "b1c8d9eb-e780-4841-e76f-211fef70a020"
      },
      "source": [
        "plt.plot(df_close)"
      ],
      "execution_count": 7,
      "outputs": [
        {
          "output_type": "execute_result",
          "data": {
            "text/plain": [
              "[<matplotlib.lines.Line2D at 0x7fe5f2c4b2d0>]"
            ]
          },
          "metadata": {},
          "execution_count": 7
        },
        {
          "output_type": "display_data",
          "data": {
            "image/png": "[encoded data removed]",
            "text/plain": [
              "<Figure size 432x288 with 1 Axes>"
            ]
          },
          "metadata": {
            "needs_background": "light"
          }
        }
      ]
    },
    {
      "cell_type": "code",
      "metadata": {
        "id": "C3_ey3kjVgZK"
      },
      "source": [
        "scaler = MinMaxScaler(feature_range = (0,1))\n",
        "df_close = scaler.fit_transform(np.array(df_close).reshape(-1,1))"
      ],
      "execution_count": 8,
      "outputs": []
    },
    {
      "cell_type": "code",
      "metadata": {
        "colab": {
          "base_uri": "https://localhost:8080/"
        },
        "id": "7dn0hZiwVjlz",
        "outputId": "571fb26e-36ab-4ac2-9faa-24371c3f8277"
      },
      "source": [
        "df_close.shape"
      ],
      "execution_count": 9,
      "outputs": [
        {
          "output_type": "execute_result",
          "data": {
            "text/plain": [
              "(1228, 1)"
            ]
          },
          "metadata": {},
          "execution_count": 9
        }
      ]
    },
    {
      "cell_type": "code",
      "metadata": {
        "colab": {
          "base_uri": "https://localhost:8080/"
        },
        "id": "_IRmRLKqVm4C",
        "outputId": "ec1a9adb-351d-4551-c0e6-7fccacc584d4"
      },
      "source": [
        "\n",
        "df_close"
      ],
      "execution_count": 10,
      "outputs": [
        {
          "output_type": "execute_result",
          "data": {
            "text/plain": [
              "array([[0.02338568],\n",
              "       [0.02265356],\n",
              "       [0.03189909],\n",
              "       ...,\n",
              "       [0.95508044],\n",
              "       [0.98730304],\n",
              "       [0.98890775]])"
            ]
          },
          "metadata": {},
          "execution_count": 10
        }
      ]
    },
    {
      "cell_type": "code",
      "metadata": {
        "id": "1EzCtTBvVq_9"
      },
      "source": [
        "training_size = int(len(df_close) * 0.75)\n",
        "test_size = len(df_close) - training_size\n",
        "train_data, test_data = df_close[0:training_size,:], df_close[training_size:len(df_close),:1]"
      ],
      "execution_count": 11,
      "outputs": []
    },
    {
      "cell_type": "code",
      "metadata": {
        "id": "2ytbnZYYVu07"
      },
      "source": [
        "def create_dataset(dataset, time_step = 1):\n",
        "    dataX, dataY = [], []\n",
        "    for i in range(len(dataset) - time_step - 1):\n",
        "        a = dataset[i:(i+time_step), 0]\n",
        "        dataX.append(a)\n",
        "        dataY.append(dataset[i+time_step, 0])\n",
        "    return np.array(dataX), np.array(dataY)"
      ],
      "execution_count": 12,
      "outputs": []
    },
    {
      "cell_type": "code",
      "metadata": {
        "id": "xBCDJVH5Vx37"
      },
      "source": [
        "time_step = 100\n",
        "x_train, y_train = create_dataset(train_data, time_step)\n",
        "x_test, y_test = create_dataset(test_data, time_step)"
      ],
      "execution_count": 13,
      "outputs": []
    },
    {
      "cell_type": "code",
      "metadata": {
        "id": "9cX_0y5YV06D"
      },
      "source": [
        "x_train = x_train.reshape(x_train.shape[0], x_train.shape[1], 1)\n",
        "x_test = x_test.reshape(x_test.shape[0], x_test.shape[1], 1)"
      ],
      "execution_count": 14,
      "outputs": []
    },
    {
      "cell_type": "code",
      "metadata": {
        "id": "2JENTeqRV4-L"
      },
      "source": [
        "model = Sequential()\n",
        "model.add(LSTM(50, return_sequences = True, input_shape = (100,1)))\n",
        "model.add(LSTM(50, return_sequences = True))\n",
        "model.add(LSTM(50))\n",
        "model.add(Dense(1))\n",
        "model.compile(loss = 'mean_squared_error', optimizer = 'adam')"
      ],
      "execution_count": 15,
      "outputs": []
    },
    {
      "cell_type": "code",
      "metadata": {
        "colab": {
          "base_uri": "https://localhost:8080/"
        },
        "id": "QCLQB0YkV61U",
        "outputId": "27ef06ee-be5d-497a-f10b-691c65ce3fec"
      },
      "source": [
        "model.summary()"
      ],
      "execution_count": 16,
      "outputs": [
        {
          "output_type": "stream",
          "name": "stdout",
          "text": [
            "Model: \"sequential\"\n",
            "_________________________________________________________________\n",
            "Layer (type)                 Output Shape              Param #   \n",
            "=================================================================\n",
            "lstm (LSTM)                  (None, 100, 50)           10400     \n",
            "_________________________________________________________________\n",
            "lstm_1 (LSTM)                (None, 100, 50)           20200     \n",
            "_________________________________________________________________\n",
            "lstm_2 (LSTM)                (None, 50)                20200     \n",
            "_________________________________________________________________\n",
            "dense (Dense)                (None, 1)                 51        \n",
            "=================================================================\n",
            "Total params: 50,851\n",
            "Trainable params: 50,851\n",
            "Non-trainable params: 0\n",
            "_________________________________________________________________\n"
          ]
        }
      ]
    },
    {
      "cell_type": "code",
      "metadata": {
        "colab": {
          "base_uri": "https://localhost:8080/"
        },
        "id": "JRQZIiyoWA2b",
        "outputId": "04a70f2c-61dc-4a15-e9dd-cbccc5f1d9f8"
      },
      "source": [
        "\n",
        "model.fit(x_train, y_train, validation_data = (x_test, y_test), epochs = 100, batch_size = 64, verbose = 1)"
      ],
      "execution_count": 17,
      "outputs": [
        {
          "output_type": "stream",
          "name": "stdout",
          "text": [
            "Epoch 1/100\n",
            "13/13 [==============================] - 12s 398ms/step - loss: 0.0363 - val_loss: 0.0598\n",
            "Epoch 2/100\n",
            "13/13 [==============================] - 4s 337ms/step - loss: 0.0065 - val_loss: 0.0123\n",
            "Epoch 3/100\n",
            "13/13 [==============================] - 4s 334ms/step - loss: 0.0021 - val_loss: 0.0127\n",
            "Epoch 4/100\n",
            "13/13 [==============================] - 4s 337ms/step - loss: 0.0013 - val_loss: 0.0093\n",
            "Epoch 5/100\n",
            "13/13 [==============================] - 4s 336ms/step - loss: 0.0010 - val_loss: 0.0090\n",
            "Epoch 6/100\n",
            "13/13 [==============================] - 4s 334ms/step - loss: 9.5874e-04 - val_loss: 0.0090\n",
            "Epoch 7/100\n",
            "13/13 [==============================] - 4s 336ms/step - loss: 9.5164e-04 - val_loss: 0.0088\n",
            "Epoch 8/100\n",
            "13/13 [==============================] - 4s 336ms/step - loss: 9.2316e-04 - val_loss: 0.0087\n",
            "Epoch 9/100\n",
            "13/13 [==============================] - 4s 336ms/step - loss: 9.1081e-04 - val_loss: 0.0088\n",
            "Epoch 10/100\n",
            "13/13 [==============================] - 4s 335ms/step - loss: 9.0882e-04 - val_loss: 0.0090\n",
            "Epoch 11/100\n",
            "13/13 [==============================] - 4s 336ms/step - loss: 9.1546e-04 - val_loss: 0.0082\n",
            "Epoch 12/100\n",
            "13/13 [==============================] - 4s 332ms/step - loss: 8.8235e-04 - val_loss: 0.0085\n",
            "Epoch 13/100\n",
            "13/13 [==============================] - 4s 336ms/step - loss: 8.6228e-04 - val_loss: 0.0083\n",
            "Epoch 14/100\n",
            "13/13 [==============================] - 4s 333ms/step - loss: 8.5877e-04 - val_loss: 0.0079\n",
            "Epoch 15/100\n",
            "13/13 [==============================] - 4s 333ms/step - loss: 8.3619e-04 - val_loss: 0.0074\n",
            "Epoch 16/100\n",
            "13/13 [==============================] - 4s 337ms/step - loss: 9.6566e-04 - val_loss: 0.0101\n",
            "Epoch 17/100\n",
            "13/13 [==============================] - 4s 333ms/step - loss: 9.2636e-04 - val_loss: 0.0084\n",
            "Epoch 18/100\n",
            "13/13 [==============================] - 4s 336ms/step - loss: 8.2977e-04 - val_loss: 0.0071\n",
            "Epoch 19/100\n",
            "13/13 [==============================] - 4s 335ms/step - loss: 7.6820e-04 - val_loss: 0.0075\n",
            "Epoch 20/100\n",
            "13/13 [==============================] - 4s 335ms/step - loss: 7.5108e-04 - val_loss: 0.0092\n",
            "Epoch 21/100\n",
            "13/13 [==============================] - 4s 335ms/step - loss: 7.6924e-04 - val_loss: 0.0074\n",
            "Epoch 22/100\n",
            "13/13 [==============================] - 4s 331ms/step - loss: 7.0075e-04 - val_loss: 0.0075\n",
            "Epoch 23/100\n",
            "13/13 [==============================] - 4s 334ms/step - loss: 7.0220e-04 - val_loss: 0.0076\n",
            "Epoch 24/100\n",
            "13/13 [==============================] - 4s 333ms/step - loss: 7.0617e-04 - val_loss: 0.0064\n",
            "Epoch 25/100\n",
            "13/13 [==============================] - 4s 335ms/step - loss: 8.0562e-04 - val_loss: 0.0048\n",
            "Epoch 26/100\n",
            "13/13 [==============================] - 4s 337ms/step - loss: 7.7243e-04 - val_loss: 0.0083\n",
            "Epoch 27/100\n",
            "13/13 [==============================] - 4s 333ms/step - loss: 6.9042e-04 - val_loss: 0.0062\n",
            "Epoch 28/100\n",
            "13/13 [==============================] - 4s 334ms/step - loss: 6.5323e-04 - val_loss: 0.0074\n",
            "Epoch 29/100\n",
            "13/13 [==============================] - 4s 336ms/step - loss: 6.1720e-04 - val_loss: 0.0093\n",
            "Epoch 30/100\n",
            "13/13 [==============================] - 4s 336ms/step - loss: 7.4532e-04 - val_loss: 0.0063\n",
            "Epoch 31/100\n",
            "13/13 [==============================] - 4s 337ms/step - loss: 6.6772e-04 - val_loss: 0.0049\n",
            "Epoch 32/100\n",
            "13/13 [==============================] - 4s 336ms/step - loss: 6.1792e-04 - val_loss: 0.0091\n",
            "Epoch 33/100\n",
            "13/13 [==============================] - 4s 335ms/step - loss: 6.0078e-04 - val_loss: 0.0070\n",
            "Epoch 34/100\n",
            "13/13 [==============================] - 4s 336ms/step - loss: 5.9515e-04 - val_loss: 0.0074\n",
            "Epoch 35/100\n",
            "13/13 [==============================] - 4s 335ms/step - loss: 6.4990e-04 - val_loss: 0.0100\n",
            "Epoch 36/100\n",
            "13/13 [==============================] - 4s 335ms/step - loss: 6.5412e-04 - val_loss: 0.0060\n",
            "Epoch 37/100\n",
            "13/13 [==============================] - 4s 334ms/step - loss: 6.2672e-04 - val_loss: 0.0054\n",
            "Epoch 38/100\n",
            "13/13 [==============================] - 4s 334ms/step - loss: 5.9234e-04 - val_loss: 0.0078\n",
            "Epoch 39/100\n",
            "13/13 [==============================] - 4s 335ms/step - loss: 5.7237e-04 - val_loss: 0.0103\n",
            "Epoch 40/100\n",
            "13/13 [==============================] - 4s 334ms/step - loss: 5.7732e-04 - val_loss: 0.0104\n",
            "Epoch 41/100\n",
            "13/13 [==============================] - 4s 333ms/step - loss: 5.8885e-04 - val_loss: 0.0091\n",
            "Epoch 42/100\n",
            "13/13 [==============================] - 4s 333ms/step - loss: 5.6223e-04 - val_loss: 0.0068\n",
            "Epoch 43/100\n",
            "13/13 [==============================] - 4s 335ms/step - loss: 5.4255e-04 - val_loss: 0.0067\n",
            "Epoch 44/100\n",
            "13/13 [==============================] - 4s 336ms/step - loss: 5.4970e-04 - val_loss: 0.0063\n",
            "Epoch 45/100\n",
            "13/13 [==============================] - 4s 336ms/step - loss: 5.6504e-04 - val_loss: 0.0062\n",
            "Epoch 46/100\n",
            "13/13 [==============================] - 4s 338ms/step - loss: 5.6239e-04 - val_loss: 0.0109\n",
            "Epoch 47/100\n",
            "13/13 [==============================] - 4s 336ms/step - loss: 5.5341e-04 - val_loss: 0.0068\n",
            "Epoch 48/100\n",
            "13/13 [==============================] - 4s 335ms/step - loss: 5.3497e-04 - val_loss: 0.0068\n",
            "Epoch 49/100\n",
            "13/13 [==============================] - 4s 334ms/step - loss: 5.7004e-04 - val_loss: 0.0098\n",
            "Epoch 50/100\n",
            "13/13 [==============================] - 4s 337ms/step - loss: 5.4575e-04 - val_loss: 0.0064\n",
            "Epoch 51/100\n",
            "13/13 [==============================] - 4s 334ms/step - loss: 5.2627e-04 - val_loss: 0.0061\n",
            "Epoch 52/100\n",
            "13/13 [==============================] - 4s 335ms/step - loss: 5.8769e-04 - val_loss: 0.0040\n",
            "Epoch 53/100\n",
            "13/13 [==============================] - 4s 335ms/step - loss: 5.5246e-04 - val_loss: 0.0064\n",
            "Epoch 54/100\n",
            "13/13 [==============================] - 4s 332ms/step - loss: 5.2740e-04 - val_loss: 0.0102\n",
            "Epoch 55/100\n",
            "13/13 [==============================] - 4s 334ms/step - loss: 5.5209e-04 - val_loss: 0.0062\n",
            "Epoch 56/100\n",
            "13/13 [==============================] - 4s 336ms/step - loss: 5.4305e-04 - val_loss: 0.0040\n",
            "Epoch 57/100\n",
            "13/13 [==============================] - 4s 337ms/step - loss: 5.3046e-04 - val_loss: 0.0051\n",
            "Epoch 58/100\n",
            "13/13 [==============================] - 4s 335ms/step - loss: 5.5059e-04 - val_loss: 0.0045\n",
            "Epoch 59/100\n",
            "13/13 [==============================] - 4s 335ms/step - loss: 6.0964e-04 - val_loss: 0.0082\n",
            "Epoch 60/100\n",
            "13/13 [==============================] - 4s 332ms/step - loss: 6.4586e-04 - val_loss: 0.0116\n",
            "Epoch 61/100\n",
            "13/13 [==============================] - 4s 329ms/step - loss: 7.0836e-04 - val_loss: 0.0040\n",
            "Epoch 62/100\n",
            "13/13 [==============================] - 4s 335ms/step - loss: 5.7799e-04 - val_loss: 0.0052\n",
            "Epoch 63/100\n",
            "13/13 [==============================] - 4s 330ms/step - loss: 5.1545e-04 - val_loss: 0.0067\n",
            "Epoch 64/100\n",
            "13/13 [==============================] - 4s 332ms/step - loss: 4.9684e-04 - val_loss: 0.0050\n",
            "Epoch 65/100\n",
            "13/13 [==============================] - 4s 332ms/step - loss: 5.0791e-04 - val_loss: 0.0053\n",
            "Epoch 66/100\n",
            "13/13 [==============================] - 4s 333ms/step - loss: 4.7481e-04 - val_loss: 0.0076\n",
            "Epoch 67/100\n",
            "13/13 [==============================] - 4s 335ms/step - loss: 5.2655e-04 - val_loss: 0.0037\n",
            "Epoch 68/100\n",
            "13/13 [==============================] - 4s 333ms/step - loss: 5.6241e-04 - val_loss: 0.0065\n",
            "Epoch 69/100\n",
            "13/13 [==============================] - 4s 339ms/step - loss: 4.8828e-04 - val_loss: 0.0045\n",
            "Epoch 70/100\n",
            "13/13 [==============================] - 4s 333ms/step - loss: 4.5821e-04 - val_loss: 0.0044\n",
            "Epoch 71/100\n",
            "13/13 [==============================] - 4s 336ms/step - loss: 4.8857e-04 - val_loss: 0.0040\n",
            "Epoch 72/100\n",
            "13/13 [==============================] - 4s 334ms/step - loss: 4.6744e-04 - val_loss: 0.0049\n",
            "Epoch 73/100\n",
            "13/13 [==============================] - 4s 334ms/step - loss: 4.6994e-04 - val_loss: 0.0061\n",
            "Epoch 74/100\n",
            "13/13 [==============================] - 4s 331ms/step - loss: 4.3869e-04 - val_loss: 0.0075\n",
            "Epoch 75/100\n",
            "13/13 [==============================] - 4s 330ms/step - loss: 5.1165e-04 - val_loss: 0.0094\n",
            "Epoch 76/100\n",
            "13/13 [==============================] - 4s 334ms/step - loss: 4.8148e-04 - val_loss: 0.0035\n",
            "Epoch 77/100\n",
            "13/13 [==============================] - 4s 333ms/step - loss: 4.6840e-04 - val_loss: 0.0058\n",
            "Epoch 78/100\n",
            "13/13 [==============================] - 4s 332ms/step - loss: 4.6511e-04 - val_loss: 0.0071\n",
            "Epoch 79/100\n",
            "13/13 [==============================] - 4s 339ms/step - loss: 4.5468e-04 - val_loss: 0.0035\n",
            "Epoch 80/100\n",
            "13/13 [==============================] - 4s 337ms/step - loss: 5.0518e-04 - val_loss: 0.0037\n",
            "Epoch 81/100\n",
            "13/13 [==============================] - 4s 339ms/step - loss: 5.6695e-04 - val_loss: 0.0095\n",
            "Epoch 82/100\n",
            "13/13 [==============================] - 4s 334ms/step - loss: 4.4538e-04 - val_loss: 0.0051\n",
            "Epoch 83/100\n",
            "13/13 [==============================] - 4s 337ms/step - loss: 4.5362e-04 - val_loss: 0.0067\n",
            "Epoch 84/100\n",
            "13/13 [==============================] - 4s 337ms/step - loss: 4.2425e-04 - val_loss: 0.0055\n",
            "Epoch 85/100\n",
            "13/13 [==============================] - 4s 338ms/step - loss: 4.2326e-04 - val_loss: 0.0030\n",
            "Epoch 86/100\n",
            "13/13 [==============================] - 4s 337ms/step - loss: 4.6224e-04 - val_loss: 0.0052\n",
            "Epoch 87/100\n",
            "13/13 [==============================] - 4s 336ms/step - loss: 4.8020e-04 - val_loss: 0.0037\n",
            "Epoch 88/100\n",
            "13/13 [==============================] - 4s 336ms/step - loss: 4.1076e-04 - val_loss: 0.0041\n",
            "Epoch 89/100\n",
            "13/13 [==============================] - 4s 336ms/step - loss: 3.8514e-04 - val_loss: 0.0048\n",
            "Epoch 90/100\n",
            "13/13 [==============================] - 4s 335ms/step - loss: 3.7780e-04 - val_loss: 0.0052\n",
            "Epoch 91/100\n",
            "13/13 [==============================] - 4s 336ms/step - loss: 3.8455e-04 - val_loss: 0.0028\n",
            "Epoch 92/100\n",
            "13/13 [==============================] - 4s 334ms/step - loss: 3.7706e-04 - val_loss: 0.0036\n",
            "Epoch 93/100\n",
            "13/13 [==============================] - 4s 337ms/step - loss: 3.7657e-04 - val_loss: 0.0046\n",
            "Epoch 94/100\n",
            "13/13 [==============================] - 4s 336ms/step - loss: 3.6918e-04 - val_loss: 0.0048\n",
            "Epoch 95/100\n",
            "13/13 [==============================] - 4s 335ms/step - loss: 3.4596e-04 - val_loss: 0.0033\n",
            "Epoch 96/100\n",
            "13/13 [==============================] - 4s 334ms/step - loss: 3.6295e-04 - val_loss: 0.0063\n",
            "Epoch 97/100\n",
            "13/13 [==============================] - 4s 332ms/step - loss: 3.4057e-04 - val_loss: 0.0030\n",
            "Epoch 98/100\n",
            "13/13 [==============================] - 4s 339ms/step - loss: 4.3611e-04 - val_loss: 0.0030\n",
            "Epoch 99/100\n",
            "13/13 [==============================] - 4s 335ms/step - loss: 3.2871e-04 - val_loss: 0.0045\n",
            "Epoch 100/100\n",
            "13/13 [==============================] - 4s 335ms/step - loss: 3.1607e-04 - val_loss: 0.0025\n"
          ]
        },
        {
          "output_type": "execute_result",
          "data": {
            "text/plain": [
              "<tensorflow.python.keras.callbacks.History at 0x7fe5ee392110>"
            ]
          },
          "metadata": {},
          "execution_count": 17
        }
      ]
    },
    {
      "cell_type": "code",
      "metadata": {
        "id": "0YJM6o5TXyvb"
      },
      "source": [
        "train_predict = model.predict(x_train)\n",
        "test_predict = model.predict(x_test)"
      ],
      "execution_count": 18,
      "outputs": []
    },
    {
      "cell_type": "code",
      "metadata": {
        "id": "ruZGhBO5X0X7"
      },
      "source": [
        "train_predict = scaler.inverse_transform(train_predict)\n",
        "test_predict = scaler.inverse_transform(test_predict)"
      ],
      "execution_count": 19,
      "outputs": []
    },
    {
      "cell_type": "code",
      "metadata": {
        "colab": {
          "base_uri": "https://localhost:8080/"
        },
        "id": "PEe2_LuWX45M",
        "outputId": "f1663c93-a6a5-43ec-d2a7-e65bab1a8a7e"
      },
      "source": [
        "math.sqrt(mean_squared_error(y_train, train_predict))"
      ],
      "execution_count": 20,
      "outputs": [
        {
          "output_type": "execute_result",
          "data": {
            "text/plain": [
              "812.5305977656169"
            ]
          },
          "metadata": {},
          "execution_count": 20
        }
      ]
    },
    {
      "cell_type": "code",
      "metadata": {
        "colab": {
          "base_uri": "https://localhost:8080/"
        },
        "id": "aPmh2ZFrX-b0",
        "outputId": "fac7d3e8-2b2b-40d3-d1ae-cfeb59e0165d"
      },
      "source": [
        "math.sqrt(mean_squared_error(y_test, test_predict))"
      ],
      "execution_count": 21,
      "outputs": [
        {
          "output_type": "execute_result",
          "data": {
            "text/plain": [
              "1342.5407033197"
            ]
          },
          "metadata": {},
          "execution_count": 21
        }
      ]
    },
    {
      "cell_type": "code",
      "metadata": {
        "colab": {
          "base_uri": "https://localhost:8080/",
          "height": 265
        },
        "id": "cmz45Z09YDdL",
        "outputId": "171a9163-50e9-44d6-ec20-c17f6827745d"
      },
      "source": [
        "look_back = 100\n",
        "trainPredictPlot = np.empty_like(df_close)\n",
        "trainPredictPlot[:,:] = np.nan\n",
        "trainPredictPlot[look_back:len(train_predict) + look_back, :] = train_predict\n",
        "\n",
        "\n",
        "testPredictPlot = np.empty_like(df_close)\n",
        "testPredictPlot[:,:] = np.nan\n",
        "testPredictPlot[len(train_predict) + (look_back * 2)+1:len(df_close) - 1, :] = test_predict\n",
        "\n",
        "\n",
        "plt.plot(scaler.inverse_transform(df_close))\n",
        "plt.plot(trainPredictPlot)\n",
        "plt.plot(testPredictPlot)\n",
        "plt.show()"
      ],
      "execution_count": 22,
      "outputs": [
        {
          "output_type": "display_data",
          "data": {
            "image/png": "[encoded data removed]",
            "text/plain": [
              "<Figure size 432x288 with 1 Axes>"
            ]
          },
          "metadata": {
            "needs_background": "light"
          }
        }
      ]
    },
    {
      "cell_type": "markdown",
      "metadata": {
        "id": "iFdVw6lmYOcT"
      },
      "source": [
        " Predict the next 30 days Stock Price"
      ]
    },
    {
      "cell_type": "code",
      "metadata": {
        "colab": {
          "base_uri": "https://localhost:8080/"
        },
        "id": "n3X6p7lHYXUE",
        "outputId": "daf4a017-2222-411a-cb08-872ce82ab22e"
      },
      "source": [
        "len(test_data), x_test.shape\n"
      ],
      "execution_count": 23,
      "outputs": [
        {
          "output_type": "execute_result",
          "data": {
            "text/plain": [
              "(307, (206, 100, 1))"
            ]
          },
          "metadata": {},
          "execution_count": 23
        }
      ]
    },
    {
      "cell_type": "code",
      "metadata": {
        "colab": {
          "base_uri": "https://localhost:8080/"
        },
        "id": "K0TYWEhcYeUj",
        "outputId": "50ad79a0-f018-486b-f476-400657b8486f"
      },
      "source": [
        "x_input = test_data[207:].reshape(1,-1)\n",
        "x_input.shape"
      ],
      "execution_count": 24,
      "outputs": [
        {
          "output_type": "execute_result",
          "data": {
            "text/plain": [
              "(1, 100)"
            ]
          },
          "metadata": {},
          "execution_count": 24
        }
      ]
    },
    {
      "cell_type": "code",
      "metadata": {
        "id": "vv1X_S0jYhm3"
      },
      "source": [
        "\n",
        "temp_input = list(x_input)\n",
        "temp_input = temp_input[0].tolist()"
      ],
      "execution_count": 25,
      "outputs": []
    },
    {
      "cell_type": "code",
      "metadata": {
        "colab": {
          "base_uri": "https://localhost:8080/"
        },
        "id": "36E92eqFYi_k",
        "outputId": "717efd74-bd47-4f79-b970-0279c572b896"
      },
      "source": [
        "lst_output=[]\n",
        "n_steps=100\n",
        "nextNumberOfDays = 30\n",
        "i=0\n",
        "\n",
        "while(i<nextNumberOfDays):\n",
        "    \n",
        "    if(len(temp_input)>100):\n",
        "        x_input=np.array(temp_input[1:])\n",
        "        print(\"{} day input {}\".format(i,x_input))\n",
        "        x_input=x_input.reshape(1,-1)\n",
        "        x_input = x_input.reshape((1, n_steps, 1))\n",
        "        yhat = model.predict(x_input, verbose=0)\n",
        "        print(\"{} day output {}\".format(i,yhat))\n",
        "        temp_input.extend(yhat[0].tolist())\n",
        "        temp_input=temp_input[1:]\n",
        "        lst_output.extend(yhat.tolist())\n",
        "        i=i+1\n",
        "    else:\n",
        "        x_input = x_input.reshape((1, n_steps,1))\n",
        "        yhat = model.predict(x_input, verbose=0)\n",
        "        print(yhat[0])\n",
        "        temp_input.extend(yhat[0].tolist())\n",
        "        print(len(temp_input))\n",
        "        lst_output.extend(yhat.tolist())\n",
        "        i=i+1\n",
        "    \n",
        "\n",
        "print(lst_output)"
      ],
      "execution_count": 26,
      "outputs": [
        {
          "output_type": "stream",
          "name": "stdout",
          "text": [
            "[0.9253133]\n",
            "101\n",
            "1 day input [0.94816649 0.94787367 0.94456877 0.93260396 0.92796026 0.93971587\n",
            " 0.97577755 0.93507227 0.93636911 0.93590896 0.93047043 0.92603592\n",
            " 0.91348547 0.88436837 0.89114561 0.86094085 0.83408286 0.81220315\n",
            " 0.84642411 0.8649151  0.87269647 0.85249013 0.85412176 0.86847106\n",
            " 0.88315514 0.88637642 0.89763003 0.8898069  0.88072869 0.9111845\n",
            " 0.89624946 0.86194488 0.83805711 0.81764168 0.81283074 0.76463691\n",
            " 0.75417823 0.776518   0.77388245 0.74999468 0.71640131 0.58516529\n",
            " 0.61813117 0.54236824 0.57776056 0.50279246 0.4963499  0.4633003\n",
            " 0.42079611 0.50467503 0.39264122 0.44229924 0.55847464 0.54504564\n",
            " 0.54454363 0.51513376 0.58483062 0.5569686  0.55445853 0.6620997\n",
            " 0.6504277  0.67368787 0.64791763 0.61503537 0.63026332 0.67707649\n",
            " 0.69364315 0.68824648 0.79387949 0.79998737 0.83855912 0.8492271\n",
            " 0.84788829 0.84688426 0.87955733 0.85378708 0.87508096 0.87516468\n",
            " 0.91382015 0.95971301 0.97226346 0.89064359 0.91690317 0.86580314\n",
            " 0.88560974 0.8698574  0.842956   0.86390272 0.87027971 0.86208686\n",
            " 0.85575214 0.87391166 0.8964632  0.88983288 0.93708981 0.95005484\n",
            " 0.95508044 0.98730304 0.98890775 0.92531329]\n",
            "1 day output [[0.91458577]]\n",
            "2 day input [0.94787367 0.94456877 0.93260396 0.92796026 0.93971587 0.97577755\n",
            " 0.93507227 0.93636911 0.93590896 0.93047043 0.92603592 0.91348547\n",
            " 0.88436837 0.89114561 0.86094085 0.83408286 0.81220315 0.84642411\n",
            " 0.8649151  0.87269647 0.85249013 0.85412176 0.86847106 0.88315514\n",
            " 0.88637642 0.89763003 0.8898069  0.88072869 0.9111845  0.89624946\n",
            " 0.86194488 0.83805711 0.81764168 0.81283074 0.76463691 0.75417823\n",
            " 0.776518   0.77388245 0.74999468 0.71640131 0.58516529 0.61813117\n",
            " 0.54236824 0.57776056 0.50279246 0.4963499  0.4633003  0.42079611\n",
            " 0.50467503 0.39264122 0.44229924 0.55847464 0.54504564 0.54454363\n",
            " 0.51513376 0.58483062 0.5569686  0.55445853 0.6620997  0.6504277\n",
            " 0.67368787 0.64791763 0.61503537 0.63026332 0.67707649 0.69364315\n",
            " 0.68824648 0.79387949 0.79998737 0.83855912 0.8492271  0.84788829\n",
            " 0.84688426 0.87955733 0.85378708 0.87508096 0.87516468 0.91382015\n",
            " 0.95971301 0.97226346 0.89064359 0.91690317 0.86580314 0.88560974\n",
            " 0.8698574  0.842956   0.86390272 0.87027971 0.86208686 0.85575214\n",
            " 0.87391166 0.8964632  0.88983288 0.93708981 0.95005484 0.95508044\n",
            " 0.98730304 0.98890775 0.92531329 0.91458577]\n",
            "2 day output [[0.89696705]]\n",
            "3 day input [0.94456877 0.93260396 0.92796026 0.93971587 0.97577755 0.93507227\n",
            " 0.93636911 0.93590896 0.93047043 0.92603592 0.91348547 0.88436837\n",
            " 0.89114561 0.86094085 0.83408286 0.81220315 0.84642411 0.8649151\n",
            " 0.87269647 0.85249013 0.85412176 0.86847106 0.88315514 0.88637642\n",
            " 0.89763003 0.8898069  0.88072869 0.9111845  0.89624946 0.86194488\n",
            " 0.83805711 0.81764168 0.81283074 0.76463691 0.75417823 0.776518\n",
            " 0.77388245 0.74999468 0.71640131 0.58516529 0.61813117 0.54236824\n",
            " 0.57776056 0.50279246 0.4963499  0.4633003  0.42079611 0.50467503\n",
            " 0.39264122 0.44229924 0.55847464 0.54504564 0.54454363 0.51513376\n",
            " 0.58483062 0.5569686  0.55445853 0.6620997  0.6504277  0.67368787\n",
            " 0.64791763 0.61503537 0.63026332 0.67707649 0.69364315 0.68824648\n",
            " 0.79387949 0.79998737 0.83855912 0.8492271  0.84788829 0.84688426\n",
            " 0.87955733 0.85378708 0.87508096 0.87516468 0.91382015 0.95971301\n",
            " 0.97226346 0.89064359 0.91690317 0.86580314 0.88560974 0.8698574\n",
            " 0.842956   0.86390272 0.87027971 0.86208686 0.85575214 0.87391166\n",
            " 0.8964632  0.88983288 0.93708981 0.95005484 0.95508044 0.98730304\n",
            " 0.98890775 0.92531329 0.91458577 0.89696705]\n",
            "3 day output [[0.8797231]]\n",
            "4 day input [0.93260396 0.92796026 0.93971587 0.97577755 0.93507227 0.93636911\n",
            " 0.93590896 0.93047043 0.92603592 0.91348547 0.88436837 0.89114561\n",
            " 0.86094085 0.83408286 0.81220315 0.84642411 0.8649151  0.87269647\n",
            " 0.85249013 0.85412176 0.86847106 0.88315514 0.88637642 0.89763003\n",
            " 0.8898069  0.88072869 0.9111845  0.89624946 0.86194488 0.83805711\n",
            " 0.81764168 0.81283074 0.76463691 0.75417823 0.776518   0.77388245\n",
            " 0.74999468 0.71640131 0.58516529 0.61813117 0.54236824 0.57776056\n",
            " 0.50279246 0.4963499  0.4633003  0.42079611 0.50467503 0.39264122\n",
            " 0.44229924 0.55847464 0.54504564 0.54454363 0.51513376 0.58483062\n",
            " 0.5569686  0.55445853 0.6620997  0.6504277  0.67368787 0.64791763\n",
            " 0.61503537 0.63026332 0.67707649 0.69364315 0.68824648 0.79387949\n",
            " 0.79998737 0.83855912 0.8492271  0.84788829 0.84688426 0.87955733\n",
            " 0.85378708 0.87508096 0.87516468 0.91382015 0.95971301 0.97226346\n",
            " 0.89064359 0.91690317 0.86580314 0.88560974 0.8698574  0.842956\n",
            " 0.86390272 0.87027971 0.86208686 0.85575214 0.87391166 0.8964632\n",
            " 0.88983288 0.93708981 0.95005484 0.95508044 0.98730304 0.98890775\n",
            " 0.92531329 0.91458577 0.89696705 0.87972307]\n",
            "4 day output [[0.8652215]]\n",
            "5 day input [0.92796026 0.93971587 0.97577755 0.93507227 0.93636911 0.93590896\n",
            " 0.93047043 0.92603592 0.91348547 0.88436837 0.89114561 0.86094085\n",
            " 0.83408286 0.81220315 0.84642411 0.8649151  0.87269647 0.85249013\n",
            " 0.85412176 0.86847106 0.88315514 0.88637642 0.89763003 0.8898069\n",
            " 0.88072869 0.9111845  0.89624946 0.86194488 0.83805711 0.81764168\n",
            " 0.81283074 0.76463691 0.75417823 0.776518   0.77388245 0.74999468\n",
            " 0.71640131 0.58516529 0.61813117 0.54236824 0.57776056 0.50279246\n",
            " 0.4963499  0.4633003  0.42079611 0.50467503 0.39264122 0.44229924\n",
            " 0.55847464 0.54504564 0.54454363 0.51513376 0.58483062 0.5569686\n",
            " 0.55445853 0.6620997  0.6504277  0.67368787 0.64791763 0.61503537\n",
            " 0.63026332 0.67707649 0.69364315 0.68824648 0.79387949 0.79998737\n",
            " 0.83855912 0.8492271  0.84788829 0.84688426 0.87955733 0.85378708\n",
            " 0.87508096 0.87516468 0.91382015 0.95971301 0.97226346 0.89064359\n",
            " 0.91690317 0.86580314 0.88560974 0.8698574  0.842956   0.86390272\n",
            " 0.87027971 0.86208686 0.85575214 0.87391166 0.8964632  0.88983288\n",
            " 0.93708981 0.95005484 0.95508044 0.98730304 0.98890775 0.92531329\n",
            " 0.91458577 0.89696705 0.87972307 0.8652215 ]\n",
            "5 day output [[0.85378534]]\n",
            "6 day input [0.93971587 0.97577755 0.93507227 0.93636911 0.93590896 0.93047043\n",
            " 0.92603592 0.91348547 0.88436837 0.89114561 0.86094085 0.83408286\n",
            " 0.81220315 0.84642411 0.8649151  0.87269647 0.85249013 0.85412176\n",
            " 0.86847106 0.88315514 0.88637642 0.89763003 0.8898069  0.88072869\n",
            " 0.9111845  0.89624946 0.86194488 0.83805711 0.81764168 0.81283074\n",
            " 0.76463691 0.75417823 0.776518   0.77388245 0.74999468 0.71640131\n",
            " 0.58516529 0.61813117 0.54236824 0.57776056 0.50279246 0.4963499\n",
            " 0.4633003  0.42079611 0.50467503 0.39264122 0.44229924 0.55847464\n",
            " 0.54504564 0.54454363 0.51513376 0.58483062 0.5569686  0.55445853\n",
            " 0.6620997  0.6504277  0.67368787 0.64791763 0.61503537 0.63026332\n",
            " 0.67707649 0.69364315 0.68824648 0.79387949 0.79998737 0.83855912\n",
            " 0.8492271  0.84788829 0.84688426 0.87955733 0.85378708 0.87508096\n",
            " 0.87516468 0.91382015 0.95971301 0.97226346 0.89064359 0.91690317\n",
            " 0.86580314 0.88560974 0.8698574  0.842956   0.86390272 0.87027971\n",
            " 0.86208686 0.85575214 0.87391166 0.8964632  0.88983288 0.93708981\n",
            " 0.95005484 0.95508044 0.98730304 0.98890775 0.92531329 0.91458577\n",
            " 0.89696705 0.87972307 0.8652215  0.85378534]\n",
            "6 day output [[0.8450142]]\n",
            "7 day input [0.97577755 0.93507227 0.93636911 0.93590896 0.93047043 0.92603592\n",
            " 0.91348547 0.88436837 0.89114561 0.86094085 0.83408286 0.81220315\n",
            " 0.84642411 0.8649151  0.87269647 0.85249013 0.85412176 0.86847106\n",
            " 0.88315514 0.88637642 0.89763003 0.8898069  0.88072869 0.9111845\n",
            " 0.89624946 0.86194488 0.83805711 0.81764168 0.81283074 0.76463691\n",
            " 0.75417823 0.776518   0.77388245 0.74999468 0.71640131 0.58516529\n",
            " 0.61813117 0.54236824 0.57776056 0.50279246 0.4963499  0.4633003\n",
            " 0.42079611 0.50467503 0.39264122 0.44229924 0.55847464 0.54504564\n",
            " 0.54454363 0.51513376 0.58483062 0.5569686  0.55445853 0.6620997\n",
            " 0.6504277  0.67368787 0.64791763 0.61503537 0.63026332 0.67707649\n",
            " 0.69364315 0.68824648 0.79387949 0.79998737 0.83855912 0.8492271\n",
            " 0.84788829 0.84688426 0.87955733 0.85378708 0.87508096 0.87516468\n",
            " 0.91382015 0.95971301 0.97226346 0.89064359 0.91690317 0.86580314\n",
            " 0.88560974 0.8698574  0.842956   0.86390272 0.87027971 0.86208686\n",
            " 0.85575214 0.87391166 0.8964632  0.88983288 0.93708981 0.95005484\n",
            " 0.95508044 0.98730304 0.98890775 0.92531329 0.91458577 0.89696705\n",
            " 0.87972307 0.8652215  0.85378534 0.84501421]\n",
            "7 day output [[0.8380182]]\n",
            "8 day input [0.93507227 0.93636911 0.93590896 0.93047043 0.92603592 0.91348547\n",
            " 0.88436837 0.89114561 0.86094085 0.83408286 0.81220315 0.84642411\n",
            " 0.8649151  0.87269647 0.85249013 0.85412176 0.86847106 0.88315514\n",
            " 0.88637642 0.89763003 0.8898069  0.88072869 0.9111845  0.89624946\n",
            " 0.86194488 0.83805711 0.81764168 0.81283074 0.76463691 0.75417823\n",
            " 0.776518   0.77388245 0.74999468 0.71640131 0.58516529 0.61813117\n",
            " 0.54236824 0.57776056 0.50279246 0.4963499  0.4633003  0.42079611\n",
            " 0.50467503 0.39264122 0.44229924 0.55847464 0.54504564 0.54454363\n",
            " 0.51513376 0.58483062 0.5569686  0.55445853 0.6620997  0.6504277\n",
            " 0.67368787 0.64791763 0.61503537 0.63026332 0.67707649 0.69364315\n",
            " 0.68824648 0.79387949 0.79998737 0.83855912 0.8492271  0.84788829\n",
            " 0.84688426 0.87955733 0.85378708 0.87508096 0.87516468 0.91382015\n",
            " 0.95971301 0.97226346 0.89064359 0.91690317 0.86580314 0.88560974\n",
            " 0.8698574  0.842956   0.86390272 0.87027971 0.86208686 0.85575214\n",
            " 0.87391166 0.8964632  0.88983288 0.93708981 0.95005484 0.95508044\n",
            " 0.98730304 0.98890775 0.92531329 0.91458577 0.89696705 0.87972307\n",
            " 0.8652215  0.85378534 0.84501421 0.83801818]\n",
            "8 day output [[0.83193576]]\n",
            "9 day input [0.93636911 0.93590896 0.93047043 0.92603592 0.91348547 0.88436837\n",
            " 0.89114561 0.86094085 0.83408286 0.81220315 0.84642411 0.8649151\n",
            " 0.87269647 0.85249013 0.85412176 0.86847106 0.88315514 0.88637642\n",
            " 0.89763003 0.8898069  0.88072869 0.9111845  0.89624946 0.86194488\n",
            " 0.83805711 0.81764168 0.81283074 0.76463691 0.75417823 0.776518\n",
            " 0.77388245 0.74999468 0.71640131 0.58516529 0.61813117 0.54236824\n",
            " 0.57776056 0.50279246 0.4963499  0.4633003  0.42079611 0.50467503\n",
            " 0.39264122 0.44229924 0.55847464 0.54504564 0.54454363 0.51513376\n",
            " 0.58483062 0.5569686  0.55445853 0.6620997  0.6504277  0.67368787\n",
            " 0.64791763 0.61503537 0.63026332 0.67707649 0.69364315 0.68824648\n",
            " 0.79387949 0.79998737 0.83855912 0.8492271  0.84788829 0.84688426\n",
            " 0.87955733 0.85378708 0.87508096 0.87516468 0.91382015 0.95971301\n",
            " 0.97226346 0.89064359 0.91690317 0.86580314 0.88560974 0.8698574\n",
            " 0.842956   0.86390272 0.87027971 0.86208686 0.85575214 0.87391166\n",
            " 0.8964632  0.88983288 0.93708981 0.95005484 0.95508044 0.98730304\n",
            " 0.98890775 0.92531329 0.91458577 0.89696705 0.87972307 0.8652215\n",
            " 0.85378534 0.84501421 0.83801818 0.83193576]\n",
            "9 day output [[0.8265151]]\n",
            "10 day input [0.93590896 0.93047043 0.92603592 0.91348547 0.88436837 0.89114561\n",
            " 0.86094085 0.83408286 0.81220315 0.84642411 0.8649151  0.87269647\n",
            " 0.85249013 0.85412176 0.86847106 0.88315514 0.88637642 0.89763003\n",
            " 0.8898069  0.88072869 0.9111845  0.89624946 0.86194488 0.83805711\n",
            " 0.81764168 0.81283074 0.76463691 0.75417823 0.776518   0.77388245\n",
            " 0.74999468 0.71640131 0.58516529 0.61813117 0.54236824 0.57776056\n",
            " 0.50279246 0.4963499  0.4633003  0.42079611 0.50467503 0.39264122\n",
            " 0.44229924 0.55847464 0.54504564 0.54454363 0.51513376 0.58483062\n",
            " 0.5569686  0.55445853 0.6620997  0.6504277  0.67368787 0.64791763\n",
            " 0.61503537 0.63026332 0.67707649 0.69364315 0.68824648 0.79387949\n",
            " 0.79998737 0.83855912 0.8492271  0.84788829 0.84688426 0.87955733\n",
            " 0.85378708 0.87508096 0.87516468 0.91382015 0.95971301 0.97226346\n",
            " 0.89064359 0.91690317 0.86580314 0.88560974 0.8698574  0.842956\n",
            " 0.86390272 0.87027971 0.86208686 0.85575214 0.87391166 0.8964632\n",
            " 0.88983288 0.93708981 0.95005484 0.95508044 0.98730304 0.98890775\n",
            " 0.92531329 0.91458577 0.89696705 0.87972307 0.8652215  0.85378534\n",
            " 0.84501421 0.83801818 0.83193576 0.82651508]\n",
            "10 day output [[0.82160103]]\n",
            "11 day input [0.93047043 0.92603592 0.91348547 0.88436837 0.89114561 0.86094085\n",
            " 0.83408286 0.81220315 0.84642411 0.8649151  0.87269647 0.85249013\n",
            " 0.85412176 0.86847106 0.88315514 0.88637642 0.89763003 0.8898069\n",
            " 0.88072869 0.9111845  0.89624946 0.86194488 0.83805711 0.81764168\n",
            " 0.81283074 0.76463691 0.75417823 0.776518   0.77388245 0.74999468\n",
            " 0.71640131 0.58516529 0.61813117 0.54236824 0.57776056 0.50279246\n",
            " 0.4963499  0.4633003  0.42079611 0.50467503 0.39264122 0.44229924\n",
            " 0.55847464 0.54504564 0.54454363 0.51513376 0.58483062 0.5569686\n",
            " 0.55445853 0.6620997  0.6504277  0.67368787 0.64791763 0.61503537\n",
            " 0.63026332 0.67707649 0.69364315 0.68824648 0.79387949 0.79998737\n",
            " 0.83855912 0.8492271  0.84788829 0.84688426 0.87955733 0.85378708\n",
            " 0.87508096 0.87516468 0.91382015 0.95971301 0.97226346 0.89064359\n",
            " 0.91690317 0.86580314 0.88560974 0.8698574  0.842956   0.86390272\n",
            " 0.87027971 0.86208686 0.85575214 0.87391166 0.8964632  0.88983288\n",
            " 0.93708981 0.95005484 0.95508044 0.98730304 0.98890775 0.92531329\n",
            " 0.91458577 0.89696705 0.87972307 0.8652215  0.85378534 0.84501421\n",
            " 0.83801818 0.83193576 0.82651508 0.82160103]\n",
            "11 day output [[0.81693876]]\n",
            "12 day input [0.92603592 0.91348547 0.88436837 0.89114561 0.86094085 0.83408286\n",
            " 0.81220315 0.84642411 0.8649151  0.87269647 0.85249013 0.85412176\n",
            " 0.86847106 0.88315514 0.88637642 0.89763003 0.8898069  0.88072869\n",
            " 0.9111845  0.89624946 0.86194488 0.83805711 0.81764168 0.81283074\n",
            " 0.76463691 0.75417823 0.776518   0.77388245 0.74999468 0.71640131\n",
            " 0.58516529 0.61813117 0.54236824 0.57776056 0.50279246 0.4963499\n",
            " 0.4633003  0.42079611 0.50467503 0.39264122 0.44229924 0.55847464\n",
            " 0.54504564 0.54454363 0.51513376 0.58483062 0.5569686  0.55445853\n",
            " 0.6620997  0.6504277  0.67368787 0.64791763 0.61503537 0.63026332\n",
            " 0.67707649 0.69364315 0.68824648 0.79387949 0.79998737 0.83855912\n",
            " 0.8492271  0.84788829 0.84688426 0.87955733 0.85378708 0.87508096\n",
            " 0.87516468 0.91382015 0.95971301 0.97226346 0.89064359 0.91690317\n",
            " 0.86580314 0.88560974 0.8698574  0.842956   0.86390272 0.87027971\n",
            " 0.86208686 0.85575214 0.87391166 0.8964632  0.88983288 0.93708981\n",
            " 0.95005484 0.95508044 0.98730304 0.98890775 0.92531329 0.91458577\n",
            " 0.89696705 0.87972307 0.8652215  0.85378534 0.84501421 0.83801818\n",
            " 0.83193576 0.82651508 0.82160103 0.81693876]\n",
            "12 day output [[0.8123571]]\n",
            "13 day input [0.91348547 0.88436837 0.89114561 0.86094085 0.83408286 0.81220315\n",
            " 0.84642411 0.8649151  0.87269647 0.85249013 0.85412176 0.86847106\n",
            " 0.88315514 0.88637642 0.89763003 0.8898069  0.88072869 0.9111845\n",
            " 0.89624946 0.86194488 0.83805711 0.81764168 0.81283074 0.76463691\n",
            " 0.75417823 0.776518   0.77388245 0.74999468 0.71640131 0.58516529\n",
            " 0.61813117 0.54236824 0.57776056 0.50279246 0.4963499  0.4633003\n",
            " 0.42079611 0.50467503 0.39264122 0.44229924 0.55847464 0.54504564\n",
            " 0.54454363 0.51513376 0.58483062 0.5569686  0.55445853 0.6620997\n",
            " 0.6504277  0.67368787 0.64791763 0.61503537 0.63026332 0.67707649\n",
            " 0.69364315 0.68824648 0.79387949 0.79998737 0.83855912 0.8492271\n",
            " 0.84788829 0.84688426 0.87955733 0.85378708 0.87508096 0.87516468\n",
            " 0.91382015 0.95971301 0.97226346 0.89064359 0.91690317 0.86580314\n",
            " 0.88560974 0.8698574  0.842956   0.86390272 0.87027971 0.86208686\n",
            " 0.85575214 0.87391166 0.8964632  0.88983288 0.93708981 0.95005484\n",
            " 0.95508044 0.98730304 0.98890775 0.92531329 0.91458577 0.89696705\n",
            " 0.87972307 0.8652215  0.85378534 0.84501421 0.83801818 0.83193576\n",
            " 0.82651508 0.82160103 0.81693876 0.81235713]\n",
            "13 day output [[0.807721]]\n",
            "14 day input [0.88436837 0.89114561 0.86094085 0.83408286 0.81220315 0.84642411\n",
            " 0.8649151  0.87269647 0.85249013 0.85412176 0.86847106 0.88315514\n",
            " 0.88637642 0.89763003 0.8898069  0.88072869 0.9111845  0.89624946\n",
            " 0.86194488 0.83805711 0.81764168 0.81283074 0.76463691 0.75417823\n",
            " 0.776518   0.77388245 0.74999468 0.71640131 0.58516529 0.61813117\n",
            " 0.54236824 0.57776056 0.50279246 0.4963499  0.4633003  0.42079611\n",
            " 0.50467503 0.39264122 0.44229924 0.55847464 0.54504564 0.54454363\n",
            " 0.51513376 0.58483062 0.5569686  0.55445853 0.6620997  0.6504277\n",
            " 0.67368787 0.64791763 0.61503537 0.63026332 0.67707649 0.69364315\n",
            " 0.68824648 0.79387949 0.79998737 0.83855912 0.8492271  0.84788829\n",
            " 0.84688426 0.87955733 0.85378708 0.87508096 0.87516468 0.91382015\n",
            " 0.95971301 0.97226346 0.89064359 0.91690317 0.86580314 0.88560974\n",
            " 0.8698574  0.842956   0.86390272 0.87027971 0.86208686 0.85575214\n",
            " 0.87391166 0.8964632  0.88983288 0.93708981 0.95005484 0.95508044\n",
            " 0.98730304 0.98890775 0.92531329 0.91458577 0.89696705 0.87972307\n",
            " 0.8652215  0.85378534 0.84501421 0.83801818 0.83193576 0.82651508\n",
            " 0.82160103 0.81693876 0.81235713 0.80772102]\n",
            "14 day output [[0.80304116]]\n",
            "15 day input [0.89114561 0.86094085 0.83408286 0.81220315 0.84642411 0.8649151\n",
            " 0.87269647 0.85249013 0.85412176 0.86847106 0.88315514 0.88637642\n",
            " 0.89763003 0.8898069  0.88072869 0.9111845  0.89624946 0.86194488\n",
            " 0.83805711 0.81764168 0.81283074 0.76463691 0.75417823 0.776518\n",
            " 0.77388245 0.74999468 0.71640131 0.58516529 0.61813117 0.54236824\n",
            " 0.57776056 0.50279246 0.4963499  0.4633003  0.42079611 0.50467503\n",
            " 0.39264122 0.44229924 0.55847464 0.54504564 0.54454363 0.51513376\n",
            " 0.58483062 0.5569686  0.55445853 0.6620997  0.6504277  0.67368787\n",
            " 0.64791763 0.61503537 0.63026332 0.67707649 0.69364315 0.68824648\n",
            " 0.79387949 0.79998737 0.83855912 0.8492271  0.84788829 0.84688426\n",
            " 0.87955733 0.85378708 0.87508096 0.87516468 0.91382015 0.95971301\n",
            " 0.97226346 0.89064359 0.91690317 0.86580314 0.88560974 0.8698574\n",
            " 0.842956   0.86390272 0.87027971 0.86208686 0.85575214 0.87391166\n",
            " 0.8964632  0.88983288 0.93708981 0.95005484 0.95508044 0.98730304\n",
            " 0.98890775 0.92531329 0.91458577 0.89696705 0.87972307 0.8652215\n",
            " 0.85378534 0.84501421 0.83801818 0.83193576 0.82651508 0.82160103\n",
            " 0.81693876 0.81235713 0.80772102 0.80304116]\n",
            "15 day output [[0.7983493]]\n",
            "16 day input [0.86094085 0.83408286 0.81220315 0.84642411 0.8649151  0.87269647\n",
            " 0.85249013 0.85412176 0.86847106 0.88315514 0.88637642 0.89763003\n",
            " 0.8898069  0.88072869 0.9111845  0.89624946 0.86194488 0.83805711\n",
            " 0.81764168 0.81283074 0.76463691 0.75417823 0.776518   0.77388245\n",
            " 0.74999468 0.71640131 0.58516529 0.61813117 0.54236824 0.57776056\n",
            " 0.50279246 0.4963499  0.4633003  0.42079611 0.50467503 0.39264122\n",
            " 0.44229924 0.55847464 0.54504564 0.54454363 0.51513376 0.58483062\n",
            " 0.5569686  0.55445853 0.6620997  0.6504277  0.67368787 0.64791763\n",
            " 0.61503537 0.63026332 0.67707649 0.69364315 0.68824648 0.79387949\n",
            " 0.79998737 0.83855912 0.8492271  0.84788829 0.84688426 0.87955733\n",
            " 0.85378708 0.87508096 0.87516468 0.91382015 0.95971301 0.97226346\n",
            " 0.89064359 0.91690317 0.86580314 0.88560974 0.8698574  0.842956\n",
            " 0.86390272 0.87027971 0.86208686 0.85575214 0.87391166 0.8964632\n",
            " 0.88983288 0.93708981 0.95005484 0.95508044 0.98730304 0.98890775\n",
            " 0.92531329 0.91458577 0.89696705 0.87972307 0.8652215  0.85378534\n",
            " 0.84501421 0.83801818 0.83193576 0.82651508 0.82160103 0.81693876\n",
            " 0.81235713 0.80772102 0.80304116 0.79834932]\n",
            "16 day output [[0.79368156]]\n",
            "17 day input [0.83408286 0.81220315 0.84642411 0.8649151  0.87269647 0.85249013\n",
            " 0.85412176 0.86847106 0.88315514 0.88637642 0.89763003 0.8898069\n",
            " 0.88072869 0.9111845  0.89624946 0.86194488 0.83805711 0.81764168\n",
            " 0.81283074 0.76463691 0.75417823 0.776518   0.77388245 0.74999468\n",
            " 0.71640131 0.58516529 0.61813117 0.54236824 0.57776056 0.50279246\n",
            " 0.4963499  0.4633003  0.42079611 0.50467503 0.39264122 0.44229924\n",
            " 0.55847464 0.54504564 0.54454363 0.51513376 0.58483062 0.5569686\n",
            " 0.55445853 0.6620997  0.6504277  0.67368787 0.64791763 0.61503537\n",
            " 0.63026332 0.67707649 0.69364315 0.68824648 0.79387949 0.79998737\n",
            " 0.83855912 0.8492271  0.84788829 0.84688426 0.87955733 0.85378708\n",
            " 0.87508096 0.87516468 0.91382015 0.95971301 0.97226346 0.89064359\n",
            " 0.91690317 0.86580314 0.88560974 0.8698574  0.842956   0.86390272\n",
            " 0.87027971 0.86208686 0.85575214 0.87391166 0.8964632  0.88983288\n",
            " 0.93708981 0.95005484 0.95508044 0.98730304 0.98890775 0.92531329\n",
            " 0.91458577 0.89696705 0.87972307 0.8652215  0.85378534 0.84501421\n",
            " 0.83801818 0.83193576 0.82651508 0.82160103 0.81693876 0.81235713\n",
            " 0.80772102 0.80304116 0.79834932 0.79368156]\n",
            "17 day output [[0.78907967]]\n",
            "18 day input [0.81220315 0.84642411 0.8649151  0.87269647 0.85249013 0.85412176\n",
            " 0.86847106 0.88315514 0.88637642 0.89763003 0.8898069  0.88072869\n",
            " 0.9111845  0.89624946 0.86194488 0.83805711 0.81764168 0.81283074\n",
            " 0.76463691 0.75417823 0.776518   0.77388245 0.74999468 0.71640131\n",
            " 0.58516529 0.61813117 0.54236824 0.57776056 0.50279246 0.4963499\n",
            " 0.4633003  0.42079611 0.50467503 0.39264122 0.44229924 0.55847464\n",
            " 0.54504564 0.54454363 0.51513376 0.58483062 0.5569686  0.55445853\n",
            " 0.6620997  0.6504277  0.67368787 0.64791763 0.61503537 0.63026332\n",
            " 0.67707649 0.69364315 0.68824648 0.79387949 0.79998737 0.83855912\n",
            " 0.8492271  0.84788829 0.84688426 0.87955733 0.85378708 0.87508096\n",
            " 0.87516468 0.91382015 0.95971301 0.97226346 0.89064359 0.91690317\n",
            " 0.86580314 0.88560974 0.8698574  0.842956   0.86390272 0.87027971\n",
            " 0.86208686 0.85575214 0.87391166 0.8964632  0.88983288 0.93708981\n",
            " 0.95005484 0.95508044 0.98730304 0.98890775 0.92531329 0.91458577\n",
            " 0.89696705 0.87972307 0.8652215  0.85378534 0.84501421 0.83801818\n",
            " 0.83193576 0.82651508 0.82160103 0.81693876 0.81235713 0.80772102\n",
            " 0.80304116 0.79834932 0.79368156 0.78907967]\n",
            "18 day output [[0.78458446]]\n",
            "19 day input [0.84642411 0.8649151  0.87269647 0.85249013 0.85412176 0.86847106\n",
            " 0.88315514 0.88637642 0.89763003 0.8898069  0.88072869 0.9111845\n",
            " 0.89624946 0.86194488 0.83805711 0.81764168 0.81283074 0.76463691\n",
            " 0.75417823 0.776518   0.77388245 0.74999468 0.71640131 0.58516529\n",
            " 0.61813117 0.54236824 0.57776056 0.50279246 0.4963499  0.4633003\n",
            " 0.42079611 0.50467503 0.39264122 0.44229924 0.55847464 0.54504564\n",
            " 0.54454363 0.51513376 0.58483062 0.5569686  0.55445853 0.6620997\n",
            " 0.6504277  0.67368787 0.64791763 0.61503537 0.63026332 0.67707649\n",
            " 0.69364315 0.68824648 0.79387949 0.79998737 0.83855912 0.8492271\n",
            " 0.84788829 0.84688426 0.87955733 0.85378708 0.87508096 0.87516468\n",
            " 0.91382015 0.95971301 0.97226346 0.89064359 0.91690317 0.86580314\n",
            " 0.88560974 0.8698574  0.842956   0.86390272 0.87027971 0.86208686\n",
            " 0.85575214 0.87391166 0.8964632  0.88983288 0.93708981 0.95005484\n",
            " 0.95508044 0.98730304 0.98890775 0.92531329 0.91458577 0.89696705\n",
            " 0.87972307 0.8652215  0.85378534 0.84501421 0.83801818 0.83193576\n",
            " 0.82651508 0.82160103 0.81693876 0.81235713 0.80772102 0.80304116\n",
            " 0.79834932 0.79368156 0.78907967 0.78458446]\n",
            "19 day output [[0.78022945]]\n",
            "20 day input [0.8649151  0.87269647 0.85249013 0.85412176 0.86847106 0.88315514\n",
            " 0.88637642 0.89763003 0.8898069  0.88072869 0.9111845  0.89624946\n",
            " 0.86194488 0.83805711 0.81764168 0.81283074 0.76463691 0.75417823\n",
            " 0.776518   0.77388245 0.74999468 0.71640131 0.58516529 0.61813117\n",
            " 0.54236824 0.57776056 0.50279246 0.4963499  0.4633003  0.42079611\n",
            " 0.50467503 0.39264122 0.44229924 0.55847464 0.54504564 0.54454363\n",
            " 0.51513376 0.58483062 0.5569686  0.55445853 0.6620997  0.6504277\n",
            " 0.67368787 0.64791763 0.61503537 0.63026332 0.67707649 0.69364315\n",
            " 0.68824648 0.79387949 0.79998737 0.83855912 0.8492271  0.84788829\n",
            " 0.84688426 0.87955733 0.85378708 0.87508096 0.87516468 0.91382015\n",
            " 0.95971301 0.97226346 0.89064359 0.91690317 0.86580314 0.88560974\n",
            " 0.8698574  0.842956   0.86390272 0.87027971 0.86208686 0.85575214\n",
            " 0.87391166 0.8964632  0.88983288 0.93708981 0.95005484 0.95508044\n",
            " 0.98730304 0.98890775 0.92531329 0.91458577 0.89696705 0.87972307\n",
            " 0.8652215  0.85378534 0.84501421 0.83801818 0.83193576 0.82651508\n",
            " 0.82160103 0.81693876 0.81235713 0.80772102 0.80304116 0.79834932\n",
            " 0.79368156 0.78907967 0.78458446 0.78022945]\n",
            "20 day output [[0.7760383]]\n",
            "21 day input [0.87269647 0.85249013 0.85412176 0.86847106 0.88315514 0.88637642\n",
            " 0.89763003 0.8898069  0.88072869 0.9111845  0.89624946 0.86194488\n",
            " 0.83805711 0.81764168 0.81283074 0.76463691 0.75417823 0.776518\n",
            " 0.77388245 0.74999468 0.71640131 0.58516529 0.61813117 0.54236824\n",
            " 0.57776056 0.50279246 0.4963499  0.4633003  0.42079611 0.50467503\n",
            " 0.39264122 0.44229924 0.55847464 0.54504564 0.54454363 0.51513376\n",
            " 0.58483062 0.5569686  0.55445853 0.6620997  0.6504277  0.67368787\n",
            " 0.64791763 0.61503537 0.63026332 0.67707649 0.69364315 0.68824648\n",
            " 0.79387949 0.79998737 0.83855912 0.8492271  0.84788829 0.84688426\n",
            " 0.87955733 0.85378708 0.87508096 0.87516468 0.91382015 0.95971301\n",
            " 0.97226346 0.89064359 0.91690317 0.86580314 0.88560974 0.8698574\n",
            " 0.842956   0.86390272 0.87027971 0.86208686 0.85575214 0.87391166\n",
            " 0.8964632  0.88983288 0.93708981 0.95005484 0.95508044 0.98730304\n",
            " 0.98890775 0.92531329 0.91458577 0.89696705 0.87972307 0.8652215\n",
            " 0.85378534 0.84501421 0.83801818 0.83193576 0.82651508 0.82160103\n",
            " 0.81693876 0.81235713 0.80772102 0.80304116 0.79834932 0.79368156\n",
            " 0.78907967 0.78458446 0.78022945 0.77603829]\n",
            "21 day output [[0.7720243]]\n",
            "22 day input [0.85249013 0.85412176 0.86847106 0.88315514 0.88637642 0.89763003\n",
            " 0.8898069  0.88072869 0.9111845  0.89624946 0.86194488 0.83805711\n",
            " 0.81764168 0.81283074 0.76463691 0.75417823 0.776518   0.77388245\n",
            " 0.74999468 0.71640131 0.58516529 0.61813117 0.54236824 0.57776056\n",
            " 0.50279246 0.4963499  0.4633003  0.42079611 0.50467503 0.39264122\n",
            " 0.44229924 0.55847464 0.54504564 0.54454363 0.51513376 0.58483062\n",
            " 0.5569686  0.55445853 0.6620997  0.6504277  0.67368787 0.64791763\n",
            " 0.61503537 0.63026332 0.67707649 0.69364315 0.68824648 0.79387949\n",
            " 0.79998737 0.83855912 0.8492271  0.84788829 0.84688426 0.87955733\n",
            " 0.85378708 0.87508096 0.87516468 0.91382015 0.95971301 0.97226346\n",
            " 0.89064359 0.91690317 0.86580314 0.88560974 0.8698574  0.842956\n",
            " 0.86390272 0.87027971 0.86208686 0.85575214 0.87391166 0.8964632\n",
            " 0.88983288 0.93708981 0.95005484 0.95508044 0.98730304 0.98890775\n",
            " 0.92531329 0.91458577 0.89696705 0.87972307 0.8652215  0.85378534\n",
            " 0.84501421 0.83801818 0.83193576 0.82651508 0.82160103 0.81693876\n",
            " 0.81235713 0.80772102 0.80304116 0.79834932 0.79368156 0.78907967\n",
            " 0.78458446 0.78022945 0.77603829 0.77202427]\n",
            "22 day output [[0.7681917]]\n",
            "23 day input [0.85412176 0.86847106 0.88315514 0.88637642 0.89763003 0.8898069\n",
            " 0.88072869 0.9111845  0.89624946 0.86194488 0.83805711 0.81764168\n",
            " 0.81283074 0.76463691 0.75417823 0.776518   0.77388245 0.74999468\n",
            " 0.71640131 0.58516529 0.61813117 0.54236824 0.57776056 0.50279246\n",
            " 0.4963499  0.4633003  0.42079611 0.50467503 0.39264122 0.44229924\n",
            " 0.55847464 0.54504564 0.54454363 0.51513376 0.58483062 0.5569686\n",
            " 0.55445853 0.6620997  0.6504277  0.67368787 0.64791763 0.61503537\n",
            " 0.63026332 0.67707649 0.69364315 0.68824648 0.79387949 0.79998737\n",
            " 0.83855912 0.8492271  0.84788829 0.84688426 0.87955733 0.85378708\n",
            " 0.87508096 0.87516468 0.91382015 0.95971301 0.97226346 0.89064359\n",
            " 0.91690317 0.86580314 0.88560974 0.8698574  0.842956   0.86390272\n",
            " 0.87027971 0.86208686 0.85575214 0.87391166 0.8964632  0.88983288\n",
            " 0.93708981 0.95005484 0.95508044 0.98730304 0.98890775 0.92531329\n",
            " 0.91458577 0.89696705 0.87972307 0.8652215  0.85378534 0.84501421\n",
            " 0.83801818 0.83193576 0.82651508 0.82160103 0.81693876 0.81235713\n",
            " 0.80772102 0.80304116 0.79834932 0.79368156 0.78907967 0.78458446\n",
            " 0.78022945 0.77603829 0.77202427 0.7681917 ]\n",
            "23 day output [[0.7645376]]\n",
            "24 day input [0.86847106 0.88315514 0.88637642 0.89763003 0.8898069  0.88072869\n",
            " 0.9111845  0.89624946 0.86194488 0.83805711 0.81764168 0.81283074\n",
            " 0.76463691 0.75417823 0.776518   0.77388245 0.74999468 0.71640131\n",
            " 0.58516529 0.61813117 0.54236824 0.57776056 0.50279246 0.4963499\n",
            " 0.4633003  0.42079611 0.50467503 0.39264122 0.44229924 0.55847464\n",
            " 0.54504564 0.54454363 0.51513376 0.58483062 0.5569686  0.55445853\n",
            " 0.6620997  0.6504277  0.67368787 0.64791763 0.61503537 0.63026332\n",
            " 0.67707649 0.69364315 0.68824648 0.79387949 0.79998737 0.83855912\n",
            " 0.8492271  0.84788829 0.84688426 0.87955733 0.85378708 0.87508096\n",
            " 0.87516468 0.91382015 0.95971301 0.97226346 0.89064359 0.91690317\n",
            " 0.86580314 0.88560974 0.8698574  0.842956   0.86390272 0.87027971\n",
            " 0.86208686 0.85575214 0.87391166 0.8964632  0.88983288 0.93708981\n",
            " 0.95005484 0.95508044 0.98730304 0.98890775 0.92531329 0.91458577\n",
            " 0.89696705 0.87972307 0.8652215  0.85378534 0.84501421 0.83801818\n",
            " 0.83193576 0.82651508 0.82160103 0.81693876 0.81235713 0.80772102\n",
            " 0.80304116 0.79834932 0.79368156 0.78907967 0.78458446 0.78022945\n",
            " 0.77603829 0.77202427 0.7681917  0.76453757]\n",
            "24 day output [[0.76105404]]\n",
            "25 day input [0.88315514 0.88637642 0.89763003 0.8898069  0.88072869 0.9111845\n",
            " 0.89624946 0.86194488 0.83805711 0.81764168 0.81283074 0.76463691\n",
            " 0.75417823 0.776518   0.77388245 0.74999468 0.71640131 0.58516529\n",
            " 0.61813117 0.54236824 0.57776056 0.50279246 0.4963499  0.4633003\n",
            " 0.42079611 0.50467503 0.39264122 0.44229924 0.55847464 0.54504564\n",
            " 0.54454363 0.51513376 0.58483062 0.5569686  0.55445853 0.6620997\n",
            " 0.6504277  0.67368787 0.64791763 0.61503537 0.63026332 0.67707649\n",
            " 0.69364315 0.68824648 0.79387949 0.79998737 0.83855912 0.8492271\n",
            " 0.84788829 0.84688426 0.87955733 0.85378708 0.87508096 0.87516468\n",
            " 0.91382015 0.95971301 0.97226346 0.89064359 0.91690317 0.86580314\n",
            " 0.88560974 0.8698574  0.842956   0.86390272 0.87027971 0.86208686\n",
            " 0.85575214 0.87391166 0.8964632  0.88983288 0.93708981 0.95005484\n",
            " 0.95508044 0.98730304 0.98890775 0.92531329 0.91458577 0.89696705\n",
            " 0.87972307 0.8652215  0.85378534 0.84501421 0.83801818 0.83193576\n",
            " 0.82651508 0.82160103 0.81693876 0.81235713 0.80772102 0.80304116\n",
            " 0.79834932 0.79368156 0.78907967 0.78458446 0.78022945 0.77603829\n",
            " 0.77202427 0.7681917  0.76453757 0.76105404]\n",
            "25 day output [[0.7577299]]\n",
            "26 day input [0.88637642 0.89763003 0.8898069  0.88072869 0.9111845  0.89624946\n",
            " 0.86194488 0.83805711 0.81764168 0.81283074 0.76463691 0.75417823\n",
            " 0.776518   0.77388245 0.74999468 0.71640131 0.58516529 0.61813117\n",
            " 0.54236824 0.57776056 0.50279246 0.4963499  0.4633003  0.42079611\n",
            " 0.50467503 0.39264122 0.44229924 0.55847464 0.54504564 0.54454363\n",
            " 0.51513376 0.58483062 0.5569686  0.55445853 0.6620997  0.6504277\n",
            " 0.67368787 0.64791763 0.61503537 0.63026332 0.67707649 0.69364315\n",
            " 0.68824648 0.79387949 0.79998737 0.83855912 0.8492271  0.84788829\n",
            " 0.84688426 0.87955733 0.85378708 0.87508096 0.87516468 0.91382015\n",
            " 0.95971301 0.97226346 0.89064359 0.91690317 0.86580314 0.88560974\n",
            " 0.8698574  0.842956   0.86390272 0.87027971 0.86208686 0.85575214\n",
            " 0.87391166 0.8964632  0.88983288 0.93708981 0.95005484 0.95508044\n",
            " 0.98730304 0.98890775 0.92531329 0.91458577 0.89696705 0.87972307\n",
            " 0.8652215  0.85378534 0.84501421 0.83801818 0.83193576 0.82651508\n",
            " 0.82160103 0.81693876 0.81235713 0.80772102 0.80304116 0.79834932\n",
            " 0.79368156 0.78907967 0.78458446 0.78022945 0.77603829 0.77202427\n",
            " 0.7681917  0.76453757 0.76105404 0.75772989]\n",
            "26 day output [[0.7545529]]\n",
            "27 day input [0.89763003 0.8898069  0.88072869 0.9111845  0.89624946 0.86194488\n",
            " 0.83805711 0.81764168 0.81283074 0.76463691 0.75417823 0.776518\n",
            " 0.77388245 0.74999468 0.71640131 0.58516529 0.61813117 0.54236824\n",
            " 0.57776056 0.50279246 0.4963499  0.4633003  0.42079611 0.50467503\n",
            " 0.39264122 0.44229924 0.55847464 0.54504564 0.54454363 0.51513376\n",
            " 0.58483062 0.5569686  0.55445853 0.6620997  0.6504277  0.67368787\n",
            " 0.64791763 0.61503537 0.63026332 0.67707649 0.69364315 0.68824648\n",
            " 0.79387949 0.79998737 0.83855912 0.8492271  0.84788829 0.84688426\n",
            " 0.87955733 0.85378708 0.87508096 0.87516468 0.91382015 0.95971301\n",
            " 0.97226346 0.89064359 0.91690317 0.86580314 0.88560974 0.8698574\n",
            " 0.842956   0.86390272 0.87027971 0.86208686 0.85575214 0.87391166\n",
            " 0.8964632  0.88983288 0.93708981 0.95005484 0.95508044 0.98730304\n",
            " 0.98890775 0.92531329 0.91458577 0.89696705 0.87972307 0.8652215\n",
            " 0.85378534 0.84501421 0.83801818 0.83193576 0.82651508 0.82160103\n",
            " 0.81693876 0.81235713 0.80772102 0.80304116 0.79834932 0.79368156\n",
            " 0.78907967 0.78458446 0.78022945 0.77603829 0.77202427 0.7681917\n",
            " 0.76453757 0.76105404 0.75772989 0.7545529 ]\n",
            "27 day output [[0.7515107]]\n",
            "28 day input [0.8898069  0.88072869 0.9111845  0.89624946 0.86194488 0.83805711\n",
            " 0.81764168 0.81283074 0.76463691 0.75417823 0.776518   0.77388245\n",
            " 0.74999468 0.71640131 0.58516529 0.61813117 0.54236824 0.57776056\n",
            " 0.50279246 0.4963499  0.4633003  0.42079611 0.50467503 0.39264122\n",
            " 0.44229924 0.55847464 0.54504564 0.54454363 0.51513376 0.58483062\n",
            " 0.5569686  0.55445853 0.6620997  0.6504277  0.67368787 0.64791763\n",
            " 0.61503537 0.63026332 0.67707649 0.69364315 0.68824648 0.79387949\n",
            " 0.79998737 0.83855912 0.8492271  0.84788829 0.84688426 0.87955733\n",
            " 0.85378708 0.87508096 0.87516468 0.91382015 0.95971301 0.97226346\n",
            " 0.89064359 0.91690317 0.86580314 0.88560974 0.8698574  0.842956\n",
            " 0.86390272 0.87027971 0.86208686 0.85575214 0.87391166 0.8964632\n",
            " 0.88983288 0.93708981 0.95005484 0.95508044 0.98730304 0.98890775\n",
            " 0.92531329 0.91458577 0.89696705 0.87972307 0.8652215  0.85378534\n",
            " 0.84501421 0.83801818 0.83193576 0.82651508 0.82160103 0.81693876\n",
            " 0.81235713 0.80772102 0.80304116 0.79834932 0.79368156 0.78907967\n",
            " 0.78458446 0.78022945 0.77603829 0.77202427 0.7681917  0.76453757\n",
            " 0.76105404 0.75772989 0.7545529  0.75151068]\n",
            "28 day output [[0.7485922]]\n",
            "29 day input [0.88072869 0.9111845  0.89624946 0.86194488 0.83805711 0.81764168\n",
            " 0.81283074 0.76463691 0.75417823 0.776518   0.77388245 0.74999468\n",
            " 0.71640131 0.58516529 0.61813117 0.54236824 0.57776056 0.50279246\n",
            " 0.4963499  0.4633003  0.42079611 0.50467503 0.39264122 0.44229924\n",
            " 0.55847464 0.54504564 0.54454363 0.51513376 0.58483062 0.5569686\n",
            " 0.55445853 0.6620997  0.6504277  0.67368787 0.64791763 0.61503537\n",
            " 0.63026332 0.67707649 0.69364315 0.68824648 0.79387949 0.79998737\n",
            " 0.83855912 0.8492271  0.84788829 0.84688426 0.87955733 0.85378708\n",
            " 0.87508096 0.87516468 0.91382015 0.95971301 0.97226346 0.89064359\n",
            " 0.91690317 0.86580314 0.88560974 0.8698574  0.842956   0.86390272\n",
            " 0.87027971 0.86208686 0.85575214 0.87391166 0.8964632  0.88983288\n",
            " 0.93708981 0.95005484 0.95508044 0.98730304 0.98890775 0.92531329\n",
            " 0.91458577 0.89696705 0.87972307 0.8652215  0.85378534 0.84501421\n",
            " 0.83801818 0.83193576 0.82651508 0.82160103 0.81693876 0.81235713\n",
            " 0.80772102 0.80304116 0.79834932 0.79368156 0.78907967 0.78458446\n",
            " 0.78022945 0.77603829 0.77202427 0.7681917  0.76453757 0.76105404\n",
            " 0.75772989 0.7545529  0.75151068 0.7485922 ]\n",
            "29 day output [[0.745787]]\n",
            "[[0.9253132939338684], [0.9145857691764832], [0.8969670534133911], [0.879723072052002], [0.8652215003967285], [0.8537853360176086], [0.845014214515686], [0.8380181789398193], [0.8319357633590698], [0.8265150785446167], [0.8216010332107544], [0.8169387578964233], [0.8123571276664734], [0.8077210187911987], [0.8030411601066589], [0.7983493208885193], [0.7936815619468689], [0.7890796661376953], [0.7845844626426697], [0.7802294492721558], [0.7760382890701294], [0.7720242738723755], [0.7681916952133179], [0.7645375728607178], [0.7610540390014648], [0.7577298879623413], [0.7545529007911682], [0.7515106797218323], [0.74859219789505], [0.7457870244979858]]\n"
          ]
        }
      ]
    },
    {
      "cell_type": "code",
      "metadata": {
        "id": "q_ZytE3eY-fc"
      },
      "source": [
        "day_new = np.arange(1,101)\n",
        "day_pred = np.arange(101,131)\n"
      ],
      "execution_count": 27,
      "outputs": []
    },
    {
      "cell_type": "code",
      "metadata": {
        "id": "R7iIHRipZEAd"
      },
      "source": [
        "\n",
        "df3 = df_close.tolist()\n",
        "df3.extend(lst_output)"
      ],
      "execution_count": 28,
      "outputs": []
    },
    {
      "cell_type": "code",
      "metadata": {
        "colab": {
          "base_uri": "https://localhost:8080/"
        },
        "id": "qNLMa5CcZJXN",
        "outputId": "aab08edc-1753-4ee1-d718-6f09d015aeac"
      },
      "source": [
        "len(df_close)"
      ],
      "execution_count": 29,
      "outputs": [
        {
          "output_type": "execute_result",
          "data": {
            "text/plain": [
              "1228"
            ]
          },
          "metadata": {},
          "execution_count": 29
        }
      ]
    },
    {
      "cell_type": "code",
      "metadata": {
        "colab": {
          "base_uri": "https://localhost:8080/",
          "height": 282
        },
        "id": "ytYw-bx_ZMyT",
        "outputId": "06fb92a3-0479-475f-ab53-dd7582e55f98"
      },
      "source": [
        "\n",
        "plt.plot(day_new, scaler.inverse_transform(df_close[1128:]))\n",
        "plt.plot(day_pred, scaler.inverse_transform(lst_output))"
      ],
      "execution_count": 30,
      "outputs": [
        {
          "output_type": "execute_result",
          "data": {
            "text/plain": [
              "[<matplotlib.lines.Line2D at 0x7fe5ee096390>]"
            ]
          },
          "metadata": {},
          "execution_count": 30
        },
        {
          "output_type": "display_data",
          "data": {
            "image/png": "[encoded data removed]",
            "text/plain": [
              "<Figure size 432x288 with 1 Axes>"
            ]
          },
          "metadata": {
            "needs_background": "light"
          }
        }
      ]
    }
  ]
}