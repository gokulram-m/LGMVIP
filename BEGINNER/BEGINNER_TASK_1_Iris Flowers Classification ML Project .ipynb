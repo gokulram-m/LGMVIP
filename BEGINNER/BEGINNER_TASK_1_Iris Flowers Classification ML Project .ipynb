{
  "nbformat": 4,
  "nbformat_minor": 0,
  "metadata": {
    "colab": {
      "name": "ds 1 project.ipynb",
      "provenance": []
    },
    "kernelspec": {
      "name": "python3",
      "display_name": "Python 3"
    },
    "language_info": {
      "name": "python"
    }
  },
  "cells": [
    {
      "cell_type": "code",
      "metadata": {
        "id": "iQHmJ67DWskL"
      },
      "source": [
        "from sklearn.datasets import load_iris\n",
        "from sklearn.model_selection import train_test_split\n",
        "from sklearn.neighbors import KNeighborsClassifier\n",
        "import numpy as np"
      ],
      "execution_count": 1,
      "outputs": []
    },
    {
      "cell_type": "code",
      "metadata": {
        "id": "ThJNgAgYWtdk"
      },
      "source": [
        "iris_dataset = load_iris()"
      ],
      "execution_count": 2,
      "outputs": []
    },
    {
      "cell_type": "code",
      "metadata": {
        "colab": {
          "base_uri": "https://localhost:8080/"
        },
        "id": "b-ZQubL0W8c2",
        "outputId": "7583ff82-951c-4b7c-e9b2-0f8e1f13953e"
      },
      "source": [
        "print(\"Target names: {}\".format(iris_dataset['target_names']))\n",
        "print(\"Feature names: {}\".format(iris_dataset['feature_names']))\n",
        "print(\"Type of data: {}\".format(type(iris_dataset['data'])))\n",
        "print(\"Shape of data: {}\".format(iris_dataset['data'].shape))"
      ],
      "execution_count": 3,
      "outputs": [
        {
          "output_type": "stream",
          "name": "stdout",
          "text": [
            "Target names: ['setosa' 'versicolor' 'virginica']\n",
            "Feature names: ['sepal length (cm)', 'sepal width (cm)', 'petal length (cm)', 'petal width (cm)']\n",
            "Type of data: <class 'numpy.ndarray'>\n",
            "Shape of data: (150, 4)\n"
          ]
        }
      ]
    },
    {
      "cell_type": "code",
      "metadata": {
        "colab": {
          "base_uri": "https://localhost:8080/"
        },
        "id": "IVG7jvpwXA63",
        "outputId": "e0e1f358-8159-4f19-b684-55565f84c60f"
      },
      "source": [
        "print(\"Type of target: {}\".format(type(iris_dataset['target'])))\n",
        "print(\"Shape of target: {}\".format(iris_dataset['target'].shape))\n",
        "print(\"Target:\\n{}\".format(iris_dataset['target']))"
      ],
      "execution_count": 4,
      "outputs": [
        {
          "output_type": "stream",
          "name": "stdout",
          "text": [
            "Type of target: <class 'numpy.ndarray'>\n",
            "Shape of target: (150,)\n",
            "Target:\n",
            "[0 0 0 0 0 0 0 0 0 0 0 0 0 0 0 0 0 0 0 0 0 0 0 0 0 0 0 0 0 0 0 0 0 0 0 0 0\n",
            " 0 0 0 0 0 0 0 0 0 0 0 0 0 1 1 1 1 1 1 1 1 1 1 1 1 1 1 1 1 1 1 1 1 1 1 1 1\n",
            " 1 1 1 1 1 1 1 1 1 1 1 1 1 1 1 1 1 1 1 1 1 1 1 1 1 1 2 2 2 2 2 2 2 2 2 2 2\n",
            " 2 2 2 2 2 2 2 2 2 2 2 2 2 2 2 2 2 2 2 2 2 2 2 2 2 2 2 2 2 2 2 2 2 2 2 2 2\n",
            " 2 2]\n"
          ]
        }
      ]
    },
    {
      "cell_type": "code",
      "metadata": {
        "id": "a9Dko71nXGZA"
      },
      "source": [
        "X_train, X_test, y_train, y_test = train_test_split(iris_dataset['data'], iris_dataset['target'], random_state=0)"
      ],
      "execution_count": 5,
      "outputs": []
    },
    {
      "cell_type": "code",
      "metadata": {
        "colab": {
          "base_uri": "https://localhost:8080/"
        },
        "id": "q3mDV2WRXNKw",
        "outputId": "acbf650d-8270-4b94-dcfd-560bdeac657b"
      },
      "source": [
        "print(\"X_train shape: {}\".format(X_train.shape))\n",
        "print(\"y_train shape: {}\".format(y_train.shape))"
      ],
      "execution_count": 6,
      "outputs": [
        {
          "output_type": "stream",
          "name": "stdout",
          "text": [
            "X_train shape: (112, 4)\n",
            "y_train shape: (112,)\n"
          ]
        }
      ]
    },
    {
      "cell_type": "code",
      "metadata": {
        "colab": {
          "base_uri": "https://localhost:8080/"
        },
        "id": "zyLgpWAEXS6Q",
        "outputId": "f0c1fa72-9bc1-408a-bdd4-a6b4d30c0c3d"
      },
      "source": [
        "print(\"X_test shape: {}\".format(X_test.shape))\n",
        "print(\"y_test shape: {}\".format(y_test.shape))"
      ],
      "execution_count": 7,
      "outputs": [
        {
          "output_type": "stream",
          "name": "stdout",
          "text": [
            "X_test shape: (38, 4)\n",
            "y_test shape: (38,)\n"
          ]
        }
      ]
    },
    {
      "cell_type": "code",
      "metadata": {
        "id": "HMkgZ5FiXZJX"
      },
      "source": [
        "knn = KNeighborsClassifier(n_neighbors=1)"
      ],
      "execution_count": 8,
      "outputs": []
    },
    {
      "cell_type": "code",
      "metadata": {
        "colab": {
          "base_uri": "https://localhost:8080/"
        },
        "id": "fyMNeroDXkdS",
        "outputId": "24168abf-49c4-4a20-9716-230771c90301"
      },
      "source": [
        "knn.fit(X_train, y_train)"
      ],
      "execution_count": 9,
      "outputs": [
        {
          "output_type": "execute_result",
          "data": {
            "text/plain": [
              "KNeighborsClassifier(algorithm='auto', leaf_size=30, metric='minkowski',\n",
              "                     metric_params=None, n_jobs=None, n_neighbors=1, p=2,\n",
              "                     weights='uniform')"
            ]
          },
          "metadata": {},
          "execution_count": 9
        }
      ]
    },
    {
      "cell_type": "code",
      "metadata": {
        "colab": {
          "base_uri": "https://localhost:8080/"
        },
        "id": "Z0FIjRzWXmaQ",
        "outputId": "9595254d-d56c-4d69-8393-cf079e50291c"
      },
      "source": [
        "X_new = np.array([[5, 2.9, 1, 0.2]])\n",
        "print(\"X_new.shape: {}\".format(X_new.shape))"
      ],
      "execution_count": 10,
      "outputs": [
        {
          "output_type": "stream",
          "name": "stdout",
          "text": [
            "X_new.shape: (1, 4)\n"
          ]
        }
      ]
    },
    {
      "cell_type": "code",
      "metadata": {
        "colab": {
          "base_uri": "https://localhost:8080/"
        },
        "id": "rw-CGuIPXvLQ",
        "outputId": "47aedd19-5bbd-4e1c-a447-7a0314acaf52"
      },
      "source": [
        "prediction = knn.predict(X_new)\n",
        "print(\"Prediction: {}\".format(prediction))\n",
        "print(\"Predicted target name: {}\".format(iris_dataset['target_names'][prediction]))"
      ],
      "execution_count": 11,
      "outputs": [
        {
          "output_type": "stream",
          "name": "stdout",
          "text": [
            "Prediction: [0]\n",
            "Predicted target name: ['setosa']\n"
          ]
        }
      ]
    },
    {
      "cell_type": "code",
      "metadata": {
        "colab": {
          "base_uri": "https://localhost:8080/"
        },
        "id": "U2n1fwU4Xw63",
        "outputId": "26d5bf70-d6ab-4c93-f43d-bd90c7f2e273"
      },
      "source": [
        "y_pred = knn.predict(X_test)\n",
        "print(\"Test set predictions:\\n {}\".format(y_pred))\n",
        "print(\"Test set score (np.mean): {:.2f}\".format(np.mean(y_pred == y_test)))\n",
        "print(\"Test set score (knn.score): {:.2f}\".format(knn.score(X_test, y_test)))"
      ],
      "execution_count": 12,
      "outputs": [
        {
          "output_type": "stream",
          "name": "stdout",
          "text": [
            "Test set predictions:\n",
            " [2 1 0 2 0 2 0 1 1 1 2 1 1 1 1 0 1 1 0 0 2 1 0 0 2 0 0 1 1 0 2 1 0 2 2 1 0\n",
            " 2]\n",
            "Test set score (np.mean): 0.97\n",
            "Test set score (knn.score): 0.97\n"
          ]
        }
      ]
    }
  ]
}